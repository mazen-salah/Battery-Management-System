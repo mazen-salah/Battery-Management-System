{
  "nbformat": 4,
  "nbformat_minor": 0,
  "metadata": {
    "colab": {
      "provenance": []
    },
    "kernelspec": {
      "name": "python3",
      "display_name": "Python 3"
    },
    "language_info": {
      "name": "python"
    }
  },
  "cells": [
    {
      "cell_type": "markdown",
      "source": [
        "# Battery Data Prediction Notebook\n"
      ],
      "metadata": {
        "id": "_3DEeDOBObp7"
      }
    },
    {
      "cell_type": "markdown",
      "source": [
        "This notebook trains models to predict `Expected Lifetime` and `IEC 62133-2:2017 Compliant` based on battery features.\n"
      ],
      "metadata": {
        "id": "5qJOZ9TvOdab"
      }
    },
    {
      "cell_type": "markdown",
      "source": [
        "## 1. Import Libraries\n"
      ],
      "metadata": {
        "id": "IL29FwNNOhXT"
      }
    },
    {
      "cell_type": "code",
      "source": [
        "import pandas as pd\n",
        "import numpy as np\n",
        "from sklearn.model_selection import train_test_split\n",
        "from sklearn.linear_model import LinearRegression\n",
        "from sklearn.ensemble import RandomForestClassifier\n",
        "from sklearn.metrics import mean_squared_error, accuracy_score, classification_report\n",
        "import matplotlib.pyplot as plt"
      ],
      "metadata": {
        "id": "zef_lh-9OkSi"
      },
      "execution_count": null,
      "outputs": []
    },
    {
      "cell_type": "markdown",
      "source": [
        "## 2. Load and Prepare Data\n"
      ],
      "metadata": {
        "id": "9JzdNhEKOqG8"
      }
    },
    {
      "cell_type": "code",
      "source": [
        "df = pd.read_csv('battery_data.csv')\n",
        "features = df[['Voltage', 'Current', 'Temperature', 'Humidity']]\n",
        "target_lifetime = df['Expected Lifetime']\n",
        "target_compliant = df['IEC 62133-2:2017 Compliant']\n",
        "df.head()"
      ],
      "metadata": {
        "colab": {
          "base_uri": "https://localhost:8080/",
          "height": 206
        },
        "id": "eondZLoxOtm1",
        "outputId": "5fc9085e-8a6a-4624-efc7-934b44e31723"
      },
      "execution_count": null,
      "outputs": [
        {
          "output_type": "execute_result",
          "data": {
            "text/plain": [
              "    Voltage   Current  Temperature   Humidity  Expected Lifetime  \\\n",
              "0  3.700000  1.792315    27.715575  45.855025           1.405572   \n",
              "1  3.686174  2.289677    28.121569  47.199095           2.400625   \n",
              "2  3.700000  2.328643    29.166102  53.736468           3.005244   \n",
              "3  3.700000  2.098861    29.107604  53.051851           3.046981   \n",
              "4  3.676585  2.419357    24.244661  49.895492           2.549935   \n",
              "\n",
              "   IEC 62133-2:2017 Compliant  \n",
              "0                       False  \n",
              "1                        True  \n",
              "2                        True  \n",
              "3                        True  \n",
              "4                        True  "
            ],
            "text/html": [
              "\n",
              "  <div id=\"df-9febd49d-ae3b-4c2d-a11c-8d27e5291b5b\" class=\"colab-df-container\">\n",
              "    <div>\n",
              "<style scoped>\n",
              "    .dataframe tbody tr th:only-of-type {\n",
              "        vertical-align: middle;\n",
              "    }\n",
              "\n",
              "    .dataframe tbody tr th {\n",
              "        vertical-align: top;\n",
              "    }\n",
              "\n",
              "    .dataframe thead th {\n",
              "        text-align: right;\n",
              "    }\n",
              "</style>\n",
              "<table border=\"1\" class=\"dataframe\">\n",
              "  <thead>\n",
              "    <tr style=\"text-align: right;\">\n",
              "      <th></th>\n",
              "      <th>Voltage</th>\n",
              "      <th>Current</th>\n",
              "      <th>Temperature</th>\n",
              "      <th>Humidity</th>\n",
              "      <th>Expected Lifetime</th>\n",
              "      <th>IEC 62133-2:2017 Compliant</th>\n",
              "    </tr>\n",
              "  </thead>\n",
              "  <tbody>\n",
              "    <tr>\n",
              "      <th>0</th>\n",
              "      <td>3.700000</td>\n",
              "      <td>1.792315</td>\n",
              "      <td>27.715575</td>\n",
              "      <td>45.855025</td>\n",
              "      <td>1.405572</td>\n",
              "      <td>False</td>\n",
              "    </tr>\n",
              "    <tr>\n",
              "      <th>1</th>\n",
              "      <td>3.686174</td>\n",
              "      <td>2.289677</td>\n",
              "      <td>28.121569</td>\n",
              "      <td>47.199095</td>\n",
              "      <td>2.400625</td>\n",
              "      <td>True</td>\n",
              "    </tr>\n",
              "    <tr>\n",
              "      <th>2</th>\n",
              "      <td>3.700000</td>\n",
              "      <td>2.328643</td>\n",
              "      <td>29.166102</td>\n",
              "      <td>53.736468</td>\n",
              "      <td>3.005244</td>\n",
              "      <td>True</td>\n",
              "    </tr>\n",
              "    <tr>\n",
              "      <th>3</th>\n",
              "      <td>3.700000</td>\n",
              "      <td>2.098861</td>\n",
              "      <td>29.107604</td>\n",
              "      <td>53.051851</td>\n",
              "      <td>3.046981</td>\n",
              "      <td>True</td>\n",
              "    </tr>\n",
              "    <tr>\n",
              "      <th>4</th>\n",
              "      <td>3.676585</td>\n",
              "      <td>2.419357</td>\n",
              "      <td>24.244661</td>\n",
              "      <td>49.895492</td>\n",
              "      <td>2.549935</td>\n",
              "      <td>True</td>\n",
              "    </tr>\n",
              "  </tbody>\n",
              "</table>\n",
              "</div>\n",
              "    <div class=\"colab-df-buttons\">\n",
              "\n",
              "  <div class=\"colab-df-container\">\n",
              "    <button class=\"colab-df-convert\" onclick=\"convertToInteractive('df-9febd49d-ae3b-4c2d-a11c-8d27e5291b5b')\"\n",
              "            title=\"Convert this dataframe to an interactive table.\"\n",
              "            style=\"display:none;\">\n",
              "\n",
              "  <svg xmlns=\"http://www.w3.org/2000/svg\" height=\"24px\" viewBox=\"0 -960 960 960\">\n",
              "    <path d=\"M120-120v-720h720v720H120Zm60-500h600v-160H180v160Zm220 220h160v-160H400v160Zm0 220h160v-160H400v160ZM180-400h160v-160H180v160Zm440 0h160v-160H620v160ZM180-180h160v-160H180v160Zm440 0h160v-160H620v160Z\"/>\n",
              "  </svg>\n",
              "    </button>\n",
              "\n",
              "  <style>\n",
              "    .colab-df-container {\n",
              "      display:flex;\n",
              "      gap: 12px;\n",
              "    }\n",
              "\n",
              "    .colab-df-convert {\n",
              "      background-color: #E8F0FE;\n",
              "      border: none;\n",
              "      border-radius: 50%;\n",
              "      cursor: pointer;\n",
              "      display: none;\n",
              "      fill: #1967D2;\n",
              "      height: 32px;\n",
              "      padding: 0 0 0 0;\n",
              "      width: 32px;\n",
              "    }\n",
              "\n",
              "    .colab-df-convert:hover {\n",
              "      background-color: #E2EBFA;\n",
              "      box-shadow: 0px 1px 2px rgba(60, 64, 67, 0.3), 0px 1px 3px 1px rgba(60, 64, 67, 0.15);\n",
              "      fill: #174EA6;\n",
              "    }\n",
              "\n",
              "    .colab-df-buttons div {\n",
              "      margin-bottom: 4px;\n",
              "    }\n",
              "\n",
              "    [theme=dark] .colab-df-convert {\n",
              "      background-color: #3B4455;\n",
              "      fill: #D2E3FC;\n",
              "    }\n",
              "\n",
              "    [theme=dark] .colab-df-convert:hover {\n",
              "      background-color: #434B5C;\n",
              "      box-shadow: 0px 1px 3px 1px rgba(0, 0, 0, 0.15);\n",
              "      filter: drop-shadow(0px 1px 2px rgba(0, 0, 0, 0.3));\n",
              "      fill: #FFFFFF;\n",
              "    }\n",
              "  </style>\n",
              "\n",
              "    <script>\n",
              "      const buttonEl =\n",
              "        document.querySelector('#df-9febd49d-ae3b-4c2d-a11c-8d27e5291b5b button.colab-df-convert');\n",
              "      buttonEl.style.display =\n",
              "        google.colab.kernel.accessAllowed ? 'block' : 'none';\n",
              "\n",
              "      async function convertToInteractive(key) {\n",
              "        const element = document.querySelector('#df-9febd49d-ae3b-4c2d-a11c-8d27e5291b5b');\n",
              "        const dataTable =\n",
              "          await google.colab.kernel.invokeFunction('convertToInteractive',\n",
              "                                                    [key], {});\n",
              "        if (!dataTable) return;\n",
              "\n",
              "        const docLinkHtml = 'Like what you see? Visit the ' +\n",
              "          '<a target=\"_blank\" href=https://colab.research.google.com/notebooks/data_table.ipynb>data table notebook</a>'\n",
              "          + ' to learn more about interactive tables.';\n",
              "        element.innerHTML = '';\n",
              "        dataTable['output_type'] = 'display_data';\n",
              "        await google.colab.output.renderOutput(dataTable, element);\n",
              "        const docLink = document.createElement('div');\n",
              "        docLink.innerHTML = docLinkHtml;\n",
              "        element.appendChild(docLink);\n",
              "      }\n",
              "    </script>\n",
              "  </div>\n",
              "\n",
              "\n",
              "<div id=\"df-399172b2-3773-4aef-b949-e2e958b75b8e\">\n",
              "  <button class=\"colab-df-quickchart\" onclick=\"quickchart('df-399172b2-3773-4aef-b949-e2e958b75b8e')\"\n",
              "            title=\"Suggest charts\"\n",
              "            style=\"display:none;\">\n",
              "\n",
              "<svg xmlns=\"http://www.w3.org/2000/svg\" height=\"24px\"viewBox=\"0 0 24 24\"\n",
              "     width=\"24px\">\n",
              "    <g>\n",
              "        <path d=\"M19 3H5c-1.1 0-2 .9-2 2v14c0 1.1.9 2 2 2h14c1.1 0 2-.9 2-2V5c0-1.1-.9-2-2-2zM9 17H7v-7h2v7zm4 0h-2V7h2v10zm4 0h-2v-4h2v4z\"/>\n",
              "    </g>\n",
              "</svg>\n",
              "  </button>\n",
              "\n",
              "<style>\n",
              "  .colab-df-quickchart {\n",
              "      --bg-color: #E8F0FE;\n",
              "      --fill-color: #1967D2;\n",
              "      --hover-bg-color: #E2EBFA;\n",
              "      --hover-fill-color: #174EA6;\n",
              "      --disabled-fill-color: #AAA;\n",
              "      --disabled-bg-color: #DDD;\n",
              "  }\n",
              "\n",
              "  [theme=dark] .colab-df-quickchart {\n",
              "      --bg-color: #3B4455;\n",
              "      --fill-color: #D2E3FC;\n",
              "      --hover-bg-color: #434B5C;\n",
              "      --hover-fill-color: #FFFFFF;\n",
              "      --disabled-bg-color: #3B4455;\n",
              "      --disabled-fill-color: #666;\n",
              "  }\n",
              "\n",
              "  .colab-df-quickchart {\n",
              "    background-color: var(--bg-color);\n",
              "    border: none;\n",
              "    border-radius: 50%;\n",
              "    cursor: pointer;\n",
              "    display: none;\n",
              "    fill: var(--fill-color);\n",
              "    height: 32px;\n",
              "    padding: 0;\n",
              "    width: 32px;\n",
              "  }\n",
              "\n",
              "  .colab-df-quickchart:hover {\n",
              "    background-color: var(--hover-bg-color);\n",
              "    box-shadow: 0 1px 2px rgba(60, 64, 67, 0.3), 0 1px 3px 1px rgba(60, 64, 67, 0.15);\n",
              "    fill: var(--button-hover-fill-color);\n",
              "  }\n",
              "\n",
              "  .colab-df-quickchart-complete:disabled,\n",
              "  .colab-df-quickchart-complete:disabled:hover {\n",
              "    background-color: var(--disabled-bg-color);\n",
              "    fill: var(--disabled-fill-color);\n",
              "    box-shadow: none;\n",
              "  }\n",
              "\n",
              "  .colab-df-spinner {\n",
              "    border: 2px solid var(--fill-color);\n",
              "    border-color: transparent;\n",
              "    border-bottom-color: var(--fill-color);\n",
              "    animation:\n",
              "      spin 1s steps(1) infinite;\n",
              "  }\n",
              "\n",
              "  @keyframes spin {\n",
              "    0% {\n",
              "      border-color: transparent;\n",
              "      border-bottom-color: var(--fill-color);\n",
              "      border-left-color: var(--fill-color);\n",
              "    }\n",
              "    20% {\n",
              "      border-color: transparent;\n",
              "      border-left-color: var(--fill-color);\n",
              "      border-top-color: var(--fill-color);\n",
              "    }\n",
              "    30% {\n",
              "      border-color: transparent;\n",
              "      border-left-color: var(--fill-color);\n",
              "      border-top-color: var(--fill-color);\n",
              "      border-right-color: var(--fill-color);\n",
              "    }\n",
              "    40% {\n",
              "      border-color: transparent;\n",
              "      border-right-color: var(--fill-color);\n",
              "      border-top-color: var(--fill-color);\n",
              "    }\n",
              "    60% {\n",
              "      border-color: transparent;\n",
              "      border-right-color: var(--fill-color);\n",
              "    }\n",
              "    80% {\n",
              "      border-color: transparent;\n",
              "      border-right-color: var(--fill-color);\n",
              "      border-bottom-color: var(--fill-color);\n",
              "    }\n",
              "    90% {\n",
              "      border-color: transparent;\n",
              "      border-bottom-color: var(--fill-color);\n",
              "    }\n",
              "  }\n",
              "</style>\n",
              "\n",
              "  <script>\n",
              "    async function quickchart(key) {\n",
              "      const quickchartButtonEl =\n",
              "        document.querySelector('#' + key + ' button');\n",
              "      quickchartButtonEl.disabled = true;  // To prevent multiple clicks.\n",
              "      quickchartButtonEl.classList.add('colab-df-spinner');\n",
              "      try {\n",
              "        const charts = await google.colab.kernel.invokeFunction(\n",
              "            'suggestCharts', [key], {});\n",
              "      } catch (error) {\n",
              "        console.error('Error during call to suggestCharts:', error);\n",
              "      }\n",
              "      quickchartButtonEl.classList.remove('colab-df-spinner');\n",
              "      quickchartButtonEl.classList.add('colab-df-quickchart-complete');\n",
              "    }\n",
              "    (() => {\n",
              "      let quickchartButtonEl =\n",
              "        document.querySelector('#df-399172b2-3773-4aef-b949-e2e958b75b8e button');\n",
              "      quickchartButtonEl.style.display =\n",
              "        google.colab.kernel.accessAllowed ? 'block' : 'none';\n",
              "    })();\n",
              "  </script>\n",
              "</div>\n",
              "\n",
              "    </div>\n",
              "  </div>\n"
            ],
            "application/vnd.google.colaboratory.intrinsic+json": {
              "type": "dataframe",
              "variable_name": "df",
              "summary": "{\n  \"name\": \"df\",\n  \"rows\": 100,\n  \"fields\": [\n    {\n      \"column\": \"Voltage\",\n      \"properties\": {\n        \"dtype\": \"number\",\n        \"std\": 0.058128566910084035,\n        \"min\": 3.4380254895910256,\n        \"max\": 3.7,\n        \"num_unique_values\": 55,\n        \"samples\": [\n          3.6614917719583686,\n          3.653658230718754,\n          3.632307799969405\n        ],\n        \"semantic_type\": \"\",\n        \"description\": \"\"\n      }\n    },\n    {\n      \"column\": \"Current\",\n      \"properties\": {\n        \"dtype\": \"number\",\n        \"std\": 0.47683448309155185,\n        \"min\": 1.5406143923504794,\n        \"max\": 3.8600845832948094,\n        \"num_unique_values\": 100,\n        \"samples\": [\n          2.7412362076215926,\n          2.616126848580502,\n          2.0552427851872386\n        ],\n        \"semantic_type\": \"\",\n        \"description\": \"\"\n      }\n    },\n    {\n      \"column\": \"Temperature\",\n      \"properties\": {\n        \"dtype\": \"number\",\n        \"std\": 2.168565764775182,\n        \"min\": 20.517465319861856,\n        \"max\": 34.705462981309445,\n        \"num_unique_values\": 100,\n        \"samples\": [\n          24.5243690023463,\n          29.06493052110229,\n          29.88254657813223\n        ],\n        \"semantic_type\": \"\",\n        \"description\": \"\"\n      }\n    },\n    {\n      \"column\": \"Humidity\",\n      \"properties\": {\n        \"dtype\": \"number\",\n        \"std\": 4.420507082045199,\n        \"min\": 39.380521378450965,\n        \"max\": 60.94901466608836,\n        \"num_unique_values\": 100,\n        \"samples\": [\n          47.37122489159619,\n          49.20030735018287,\n          50.12255087129471\n        ],\n        \"semantic_type\": \"\",\n        \"description\": \"\"\n      }\n    },\n    {\n      \"column\": \"Expected Lifetime\",\n      \"properties\": {\n        \"dtype\": \"number\",\n        \"std\": 1.035500524990623,\n        \"min\": 0.6980788352644152,\n        \"max\": 5.0,\n        \"num_unique_values\": 99,\n        \"samples\": [\n          2.3002744920074143,\n          3.384065448939307,\n          1.962753845673544\n        ],\n        \"semantic_type\": \"\",\n        \"description\": \"\"\n      }\n    },\n    {\n      \"column\": \"IEC 62133-2:2017 Compliant\",\n      \"properties\": {\n        \"dtype\": \"boolean\",\n        \"num_unique_values\": 2,\n        \"samples\": [\n          true,\n          false\n        ],\n        \"semantic_type\": \"\",\n        \"description\": \"\"\n      }\n    }\n  ]\n}"
            }
          },
          "metadata": {},
          "execution_count": 9
        }
      ]
    },
    {
      "cell_type": "markdown",
      "source": [
        "## 3. Train-Test Split\n"
      ],
      "metadata": {
        "id": "uiWgqaGFPXpp"
      }
    },
    {
      "cell_type": "code",
      "source": [
        "X_train, X_test, y_train_lifetime, y_test_lifetime = train_test_split(features, target_lifetime, test_size=0.2, random_state=42)\n",
        "X_train_compliant, X_test_compliant, y_train_compliant, y_test_compliant = train_test_split(features, target_compliant, test_size=0.2, random_state=42)\n"
      ],
      "metadata": {
        "id": "oR9RH7gUPYzV"
      },
      "execution_count": null,
      "outputs": []
    },
    {
      "cell_type": "markdown",
      "source": [
        "## 4. Train and Evaluate Model for Expected Lifetime Prediction\n"
      ],
      "metadata": {
        "id": "-L0vjbzcPcDk"
      }
    },
    {
      "cell_type": "code",
      "source": [
        "model_lifetime = LinearRegression()\n",
        "model_lifetime.fit(X_train, y_train_lifetime)\n",
        "\n",
        "y_pred_lifetime = model_lifetime.predict(X_test)\n",
        "\n",
        "mse_lifetime = mean_squared_error(y_test_lifetime, y_pred_lifetime)\n",
        "print(f\"Mean Squared Error for Expected Lifetime Prediction: {mse_lifetime:.2f}\")\n",
        "\n",
        "plt.scatter(y_test_lifetime, y_pred_lifetime)\n",
        "plt.xlabel('Actual Expected Lifetime')\n",
        "plt.ylabel('Predicted Expected Lifetime')\n",
        "plt.title('Actual vs Predicted Expected Lifetime')\n",
        "plt.show()"
      ],
      "metadata": {
        "colab": {
          "base_uri": "https://localhost:8080/",
          "height": 489
        },
        "id": "BlFxhvl8PdL1",
        "outputId": "206bdb37-5d9c-4c50-8b18-0dfd4e30a57c"
      },
      "execution_count": null,
      "outputs": [
        {
          "output_type": "stream",
          "name": "stdout",
          "text": [
            "Mean Squared Error for Expected Lifetime Prediction: 0.76\n"
          ]
        },
        {
          "output_type": "display_data",
          "data": {
            "text/plain": [
              "<Figure size 640x480 with 1 Axes>"
            ],
            "image/png": "[encoded data removed]"
          },
          "metadata": {}
        }
      ]
    },
    {
      "cell_type": "markdown",
      "source": [
        "## 5. Train and Evaluate Model for IEC 62133-2:2017 Compliance Prediction\n"
      ],
      "metadata": {
        "id": "uxXNm4fKPuib"
      }
    },
    {
      "cell_type": "code",
      "source": [
        "model_compliant = RandomForestClassifier(n_estimators=100, random_state=42)\n",
        "model_compliant.fit(X_train_compliant, y_train_compliant)\n",
        "\n",
        "y_pred_compliant = model_compliant.predict(X_test_compliant)\n",
        "\n",
        "accuracy_compliant = accuracy_score(y_test_compliant, y_pred_compliant)\n",
        "print(f\"Accuracy for IEC 62133-2:2017 Compliance Prediction: {accuracy_compliant:.2f}\")\n",
        "print(\"\\nClassification Report:\\n\", classification_report(y_test_compliant, y_pred_compliant))\n"
      ],
      "metadata": {
        "colab": {
          "base_uri": "https://localhost:8080/"
        },
        "id": "xr-R1RI2PxHS",
        "outputId": "76be72df-90a7-44a3-9a64-e68d4edeb68b"
      },
      "execution_count": null,
      "outputs": [
        {
          "output_type": "stream",
          "name": "stdout",
          "text": [
            "Accuracy for IEC 62133-2:2017 Compliance Prediction: 0.70\n",
            "\n",
            "Classification Report:\n",
            "               precision    recall  f1-score   support\n",
            "\n",
            "       False       0.00      0.00      0.00         5\n",
            "        True       0.74      0.93      0.82        15\n",
            "\n",
            "    accuracy                           0.70        20\n",
            "   macro avg       0.37      0.47      0.41        20\n",
            "weighted avg       0.55      0.70      0.62        20\n",
            "\n"
          ]
        }
      ]
    },
    {
      "cell_type": "markdown",
      "source": [
        "## 6. Save Models"
      ],
      "metadata": {
        "id": "97avsX0xP8uF"
      }
    },
    {
      "cell_type": "code",
      "source": [
        "import joblib\n",
        "\n",
        "joblib.dump(model_lifetime, 'model_lifetime.pkl')\n",
        "joblib.dump(model_compliant, 'model_compliant.pkl')"
      ],
      "metadata": {
        "colab": {
          "base_uri": "https://localhost:8080/"
        },
        "id": "PvqhBUQAP-kK",
        "outputId": "7154450a-69ef-41b7-f0d2-9e9e82fea25c"
      },
      "execution_count": null,
      "outputs": [
        {
          "output_type": "execute_result",
          "data": {
            "text/plain": [
              "['model_compliant.pkl']"
            ]
          },
          "metadata": {},
          "execution_count": 13
        }
      ]
    },
    {
      "cell_type": "markdown",
      "source": [
        "## 7. Conclusion\n"
      ],
      "metadata": {
        "id": "hG4UoP3OQROg"
      }
    },
    {
      "cell_type": "markdown",
      "source": [
        "In this notebook, we trained models to predict the Expected Lifetime and IEC 62133-2:2017 Compliant status based on battery characteristics. We evaluated the models and saved them for future predictions."
      ],
      "metadata": {
        "id": "A0hvV549QVbO"
      }
    }
  ]
}